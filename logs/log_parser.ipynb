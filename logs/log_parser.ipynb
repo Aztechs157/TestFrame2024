{
 "cells": [
  {
   "cell_type": "code",
   "execution_count": 1,
   "metadata": {},
   "outputs": [],
   "source": [
    "from mcap.mcap0.stream_reader import StreamReader\n",
    "\n",
    "stream = open(\"c:/Users/Aztechs/Projects/Ayden/TestFrame2024/logs/02C14EB74C32435320202059092017FF_2024-10-25_18-56-03.hoot.mcap\", \"rb\")\n",
    "reader = StreamReader(stream)\n",
    "\n",
    "log_dictionary = {\"Pigeon2-13\":{\"id\":500, \"channel_id\":500, \"data\":{}, \"timestamps\":[]},\n",
    "                  \"CANcoder-1\":{\"id\":500, \"channel_id\":500, \"data\":{}, \"timestamps\":[]},\n",
    "                  \"CANcoder-4\":{\"id\":500, \"channel_id\":500, \"data\":{}, \"timestamps\":[]},\n",
    "                  \"CANcoder-7\":{\"id\":500, \"channel_id\":500, \"data\":{}, \"timestamps\":[]},\n",
    "                  \"CANcoder-10\":{\"id\":500, \"channel_id\":500, \"data\":{}, \"timestamps\":[]},\n",
    "                  \"TalonFX-2\":{\"id\":500, \"channel_id\":500, \"data\":{}, \"timestamps\":[]},\n",
    "                  \"TalonFX-3\":{\"id\":500, \"channel_id\":500, \"data\":{}, \"timestamps\":[]},\n",
    "                  \"TalonFX-5\":{\"id\":500, \"channel_id\":500, \"data\":{}, \"timestamps\":[]},\n",
    "                  \"TalonFX-6\":{\"id\":500, \"channel_id\":500, \"data\":{}, \"timestamps\":[]},\n",
    "                  \"TalonFX-8\":{\"id\":500, \"channel_id\":500, \"data\":{}, \"timestamps\":[]},\n",
    "                  \"TalonFX-9\":{\"id\":500, \"channel_id\":500, \"data\":{}, \"timestamps\":[]},\n",
    "                  \"TalonFX-11\":{\"id\":500, \"channel_id\":500, \"data\":{}, \"timestamps\":[]},\n",
    "                  \"TalonFX-12\":{\"id\":500, \"channel_id\":500, \"data\":{}, \"timestamps\":[]}\n",
    "                  }\n",
    "\n",
    "# for i, record in enumerate(reader.records):\n",
    "#     if i == 9:\n",
    "#         test_record = record\n",
    "\n",
    "record_count = 0\n",
    "for i, record in enumerate(reader.records):\n",
    "    if i <= (len(log_dictionary)*3):\n",
    "        if i != 0:\n",
    "            record_count+=1\n",
    "        if record_count == 2:\n",
    "            log_dictionary[record.topic][\"id\"] = record.id\n",
    "            log_dictionary[record.topic][\"channel_id\"] = record.id\n",
    "        if record_count == 3:\n",
    "            # TODO: Add first data point for each device\n",
    "            record_count = 0\n",
    "    # TODO: Add data points for each iteration\n"
   ]
  },
  {
   "cell_type": "code",
   "execution_count": 179,
   "metadata": {},
   "outputs": [
    {
     "data": {
      "text/plain": [
       "Message(channel_id=3, log_time=1729896963740702000, data=b'{\"Acceleration\":{\"timestampSec\":0.740702,\"units\":\"rotations per second\\xc2\\xb2\",\"value\":-0.25},\"AncillaryDeviceTemp\":{\"timestampSec\":0.740702,\"units\":\"\\xe2\\x84\\x83\",\"value\":23.0},\"AppliedRotorPolarity\":{\"timestampSec\":0.740702,\"value\":\"PositiveIsCounterClockwise\"},\"BridgeOutput\":{\"timestampSec\":0.740702,\"value\":\"BridgeReq_FOCEasy\"},\"ClosedLoopSlot\":{\"timestampSec\":0.740702,\"value\":0.0},\"ControlMode\":{\"timestampSec\":0.740702,\"value\":\"MotionMagicVoltageFOC\"},\"DeviceEnable\":{\"timestampSec\":0.740702,\"value\":\"Enabled\"},\"DeviceTemp\":{\"timestampSec\":0.740702,\"units\":\"\\xe2\\x84\\x83\",\"value\":21.0},\"DutyCycle\":{\"timestampSec\":0.740702,\"units\":\"fractional\",\"value\":-0.00390625},\"ForwardLimit\":{\"timestampSec\":0.740702,\"value\":\"Open\"},\"MotionMagicIsRunning\":{\"timestampSec\":0.740702,\"value\":\"Enabled\"},\"MotorOutputStatus\":{\"timestampSec\":0.740702,\"value\":\"DiscordantMotoring\"},\"MotorType\":{\"timestampSec\":0.740702,\"value\":\"KrakenX60\"},\"MotorVoltage\":{\"timestampSec\":0.740702,\"units\":\"V\",\"value\":-0.04},\"PIDDutyCycle_DerivativeOutput\":{\"timestampSec\":0.740702,\"units\":\"fractional\",\"value\":0.0},\"PIDDutyCycle_FeedForward\":{\"timestampSec\":0.740702,\"units\":\"fractional\",\"value\":0.0},\"PIDDutyCycle_IntegratedAccum\":{\"timestampSec\":0.740702,\"units\":\"fractional\",\"value\":0.0},\"PIDDutyCycle_Output\":{\"timestampSec\":0.740702,\"units\":\"fractional\",\"value\":-0.00390625},\"PIDDutyCycle_ProportionalOutput\":{\"timestampSec\":0.740702,\"units\":\"fractional\",\"value\":-0.00390625},\"PIDMotorVoltage_DerivativeOutput\":{\"timestampSec\":0.740702,\"units\":\"V\",\"value\":0.0},\"PIDMotorVoltage_FeedForward\":{\"timestampSec\":0.740702,\"units\":\"V\",\"value\":0.0},\"PIDMotorVoltage_IntegratedAccum\":{\"timestampSec\":0.740702,\"units\":\"V\",\"value\":0.0},\"PIDMotorVoltage_Output\":{\"timestampSec\":0.740702,\"units\":\"V\",\"value\":-0.04},\"PIDMotorVoltage_ProportionalOutput\":{\"timestampSec\":0.740702,\"units\":\"V\",\"value\":-0.04},\"PIDPosition_ClosedLoopError\":{\"timestampSec\":0.740702,\"units\":\"rotations\",\"value\":-0.00048828125},\"PIDPosition_Reference\":{\"timestampSec\":0.740702,\"units\":\"rotations\",\"value\":0.0},\"PIDPosition_ReferenceSlope\":{\"timestampSec\":0.740702,\"units\":\"rotations per second\",\"value\":0.0},\"PIDTorqueCurrent_DerivativeOutput\":{\"timestampSec\":0.740702,\"units\":\"A\",\"value\":0.0},\"PIDTorqueCurrent_FeedForward\":{\"timestampSec\":0.740702,\"units\":\"A\",\"value\":0.0},\"PIDTorqueCurrent_IntegratedAccum\":{\"timestampSec\":0.740702,\"units\":\"A\",\"value\":0.0},\"PIDTorqueCurrent_Output\":{\"timestampSec\":0.740702,\"units\":\"A\",\"value\":-0.4},\"PIDTorqueCurrent_ProportionalOutput\":{\"timestampSec\":0.740702,\"units\":\"A\",\"value\":-0.4},\"PIDVelocity_ClosedLoopError\":{\"timestampSec\":0.740702,\"units\":\"rotations per second\",\"value\":-0.00048828125},\"PIDVelocity_Reference\":{\"timestampSec\":0.740702,\"units\":\"rotations per second\",\"value\":0.0},\"PIDVelocity_ReferenceSlope\":{\"timestampSec\":0.740702,\"units\":\"rotations per second\\xc2\\xb2\",\"value\":0.0},\"Position\":{\"timestampSec\":0.740702,\"units\":\"rotations\",\"value\":0.00048828125},\"ProcessorTemp\":{\"timestampSec\":0.740702,\"units\":\"\\xe2\\x84\\x83\",\"value\":29.0},\"ReverseLimit\":{\"timestampSec\":0.740702,\"value\":\"Open\"},\"RotorPosition\":{\"timestampSec\":0.740702,\"units\":\"rotations\",\"value\":-3.4267578125},\"RotorVelocity\":{\"timestampSec\":0.740702,\"units\":\"rotations per second\",\"value\":0.0},\"StatorCurrent\":{\"timestampSec\":0.740702,\"units\":\"A\",\"value\":0.5},\"SupplyCurrent\":{\"timestampSec\":0.740702,\"units\":\"A\",\"value\":0.0},\"SupplyVoltage\":{\"timestampSec\":0.740702,\"units\":\"V\",\"value\":12.75},\"TorqueCurrent\":{\"timestampSec\":0.740702,\"units\":\"A\",\"value\":-0.5},\"Velocity\":{\"timestampSec\":0.740702,\"units\":\"rotations per second\",\"value\":0.0}}', publish_time=1729896963740702000, sequence=0)"
      ]
     },
     "execution_count": 179,
     "metadata": {},
     "output_type": "execute_result"
    }
   ],
   "source": [
    "test_record"
   ]
  },
  {
   "cell_type": "code",
   "execution_count": 183,
   "metadata": {},
   "outputs": [
    {
     "data": {
      "text/plain": [
       "{'Pigeon2-13': {'id': 2, 'channel_id': 2, 'data': {}, 'timestamps': []},\n",
       " 'CANcoder-1': {'id': 4, 'channel_id': 4, 'data': {}, 'timestamps': []},\n",
       " 'CANcoder-4': {'id': 5, 'channel_id': 5, 'data': {}, 'timestamps': []},\n",
       " 'CANcoder-7': {'id': 12, 'channel_id': 12, 'data': {}, 'timestamps': []},\n",
       " 'CANcoder-10': {'id': 13, 'channel_id': 13, 'data': {}, 'timestamps': []},\n",
       " 'TalonFX-2': {'id': 7, 'channel_id': 7, 'data': {}, 'timestamps': []},\n",
       " 'TalonFX-3': {'id': 8, 'channel_id': 8, 'data': {}, 'timestamps': []},\n",
       " 'TalonFX-5': {'id': 9, 'channel_id': 9, 'data': {}, 'timestamps': []},\n",
       " 'TalonFX-6': {'id': 3, 'channel_id': 3, 'data': {}, 'timestamps': []},\n",
       " 'TalonFX-8': {'id': 10, 'channel_id': 10, 'data': {}, 'timestamps': []},\n",
       " 'TalonFX-9': {'id': 6, 'channel_id': 6, 'data': {}, 'timestamps': []},\n",
       " 'TalonFX-11': {'id': 11, 'channel_id': 11, 'data': {}, 'timestamps': []},\n",
       " 'TalonFX-12': {'id': 1, 'channel_id': 1, 'data': {}, 'timestamps': []}}"
      ]
     },
     "execution_count": 183,
     "metadata": {},
     "output_type": "execute_result"
    }
   ],
   "source": [
    "log_dictionary"
   ]
  },
  {
   "cell_type": "code",
   "execution_count": 175,
   "metadata": {},
   "outputs": [
    {
     "data": {
      "text/plain": [
       "13"
      ]
     },
     "execution_count": 175,
     "metadata": {},
     "output_type": "execute_result"
    }
   ],
   "source": [
    "len(log_dictionary)"
   ]
  },
  {
   "cell_type": "markdown",
   "metadata": {},
   "source": [
    "## Record Tester"
   ]
  },
  {
   "cell_type": "code",
   "execution_count": 203,
   "metadata": {},
   "outputs": [
    {
     "data": {
      "text/plain": [
       "Message(channel_id=1, log_time=1729896963740485000, data=b'{\"Acceleration\":{\"timestampSec\":0.740485,\"units\":\"rotations per second\\xc2\\xb2\",\"value\":0.0},\"AncillaryDeviceTemp\":{\"timestampSec\":0.740485,\"units\":\"\\xe2\\x84\\x83\",\"value\":24.0},\"AppliedRotorPolarity\":{\"timestampSec\":0.740485,\"value\":\"PositiveIsCounterClockwise\"},\"BridgeOutput\":{\"timestampSec\":0.740485,\"value\":\"BridgeReq_FOCEasy\"},\"ClosedLoopSlot\":{\"timestampSec\":0.740485,\"value\":0.0},\"ControlMode\":{\"timestampSec\":0.740485,\"value\":\"MotionMagicVoltageFOC\"},\"DeviceEnable\":{\"timestampSec\":0.740485,\"value\":\"Enabled\"},\"DeviceTemp\":{\"timestampSec\":0.740485,\"units\":\"\\xe2\\x84\\x83\",\"value\":22.0},\"DutyCycle\":{\"timestampSec\":0.740485,\"units\":\"fractional\",\"value\":0.0029296875},\"ForwardLimit\":{\"timestampSec\":0.740485,\"value\":\"Open\"},\"MotionMagicIsRunning\":{\"timestampSec\":0.740485,\"value\":\"Enabled\"},\"MotorOutputStatus\":{\"timestampSec\":0.740485,\"value\":\"Motoring\"},\"MotorType\":{\"timestampSec\":0.740485,\"value\":\"KrakenX60\"},\"MotorVoltage\":{\"timestampSec\":0.740485,\"units\":\"V\",\"value\":0.04},\"PIDDutyCycle_DerivativeOutput\":{\"timestampSec\":0.740485,\"units\":\"fractional\",\"value\":0.0},\"PIDDutyCycle_FeedForward\":{\"timestampSec\":0.740485,\"units\":\"fractional\",\"value\":0.0},\"PIDDutyCycle_IntegratedAccum\":{\"timestampSec\":0.740485,\"units\":\"fractional\",\"value\":0.0},\"PIDDutyCycle_Output\":{\"timestampSec\":0.740485,\"units\":\"fractional\",\"value\":0.00390625},\"PIDDutyCycle_ProportionalOutput\":{\"timestampSec\":0.740485,\"units\":\"fractional\",\"value\":0.00390625},\"PIDMotorVoltage_DerivativeOutput\":{\"timestampSec\":0.740485,\"units\":\"V\",\"value\":0.0},\"PIDMotorVoltage_FeedForward\":{\"timestampSec\":0.740485,\"units\":\"V\",\"value\":0.0},\"PIDMotorVoltage_IntegratedAccum\":{\"timestampSec\":0.740485,\"units\":\"V\",\"value\":0.0},\"PIDMotorVoltage_Output\":{\"timestampSec\":0.740485,\"units\":\"V\",\"value\":0.04},\"PIDMotorVoltage_ProportionalOutput\":{\"timestampSec\":0.740485,\"units\":\"V\",\"value\":0.04},\"PIDPosition_ClosedLoopError\":{\"timestampSec\":0.740485,\"units\":\"rotations\",\"value\":0.00048828125},\"PIDPosition_Reference\":{\"timestampSec\":0.740485,\"units\":\"rotations\",\"value\":0.0},\"PIDPosition_ReferenceSlope\":{\"timestampSec\":0.740485,\"units\":\"rotations per second\",\"value\":0.0},\"PIDTorqueCurrent_DerivativeOutput\":{\"timestampSec\":0.740485,\"units\":\"A\",\"value\":0.0},\"PIDTorqueCurrent_FeedForward\":{\"timestampSec\":0.740485,\"units\":\"A\",\"value\":0.0},\"PIDTorqueCurrent_IntegratedAccum\":{\"timestampSec\":0.740485,\"units\":\"A\",\"value\":0.0},\"PIDTorqueCurrent_Output\":{\"timestampSec\":0.740485,\"units\":\"A\",\"value\":0.4},\"PIDTorqueCurrent_ProportionalOutput\":{\"timestampSec\":0.740485,\"units\":\"A\",\"value\":0.4},\"PIDVelocity_ClosedLoopError\":{\"timestampSec\":0.740485,\"units\":\"rotations per second\",\"value\":0.00048828125},\"PIDVelocity_Reference\":{\"timestampSec\":0.740485,\"units\":\"rotations per second\",\"value\":0.0},\"PIDVelocity_ReferenceSlope\":{\"timestampSec\":0.740485,\"units\":\"rotations per second\\xc2\\xb2\",\"value\":0.0},\"Position\":{\"timestampSec\":0.740485,\"units\":\"rotations\",\"value\":-0.00048828125},\"ProcessorTemp\":{\"timestampSec\":0.740485,\"units\":\"\\xe2\\x84\\x83\",\"value\":28.0},\"ReverseLimit\":{\"timestampSec\":0.740485,\"value\":\"Open\"},\"RotorPosition\":{\"timestampSec\":0.740485,\"units\":\"rotations\",\"value\":-3.19287109375},\"RotorVelocity\":{\"timestampSec\":0.740485,\"units\":\"rotations per second\",\"value\":0.0},\"StatorCurrent\":{\"timestampSec\":0.740485,\"units\":\"A\",\"value\":0.52},\"SupplyCurrent\":{\"timestampSec\":0.740485,\"units\":\"A\",\"value\":0.0},\"SupplyVoltage\":{\"timestampSec\":0.740485,\"units\":\"V\",\"value\":12.75},\"TorqueCurrent\":{\"timestampSec\":0.740485,\"units\":\"A\",\"value\":0.52},\"Velocity\":{\"timestampSec\":0.740485,\"units\":\"rotations per second\",\"value\":0.0}}', publish_time=1729896963740485000, sequence=0)"
      ]
     },
     "execution_count": 203,
     "metadata": {},
     "output_type": "execute_result"
    }
   ],
   "source": [
    "stream = open(\"c:/Users/Aztechs/Projects/Ayden/TestFrame2024/logs/02C14EB74C32435320202059092017FF_2024-10-25_18-56-03.hoot.mcap\", \"rb\")\n",
    "reader = StreamReader(stream)\n",
    "\n",
    "for i, record in enumerate(reader.records):\n",
    "    if i == 3:\n",
    "        test_record = record\n",
    "\n",
    "test_record\n"
   ]
  },
  {
   "cell_type": "code",
   "execution_count": null,
   "metadata": {},
   "outputs": [],
   "source": [
    "0.744734"
   ]
  }
 ],
 "metadata": {
  "kernelspec": {
   "display_name": "Python 3",
   "language": "python",
   "name": "python3"
  },
  "language_info": {
   "codemirror_mode": {
    "name": "ipython",
    "version": 3
   },
   "file_extension": ".py",
   "mimetype": "text/x-python",
   "name": "python",
   "nbconvert_exporter": "python",
   "pygments_lexer": "ipython3",
   "version": "3.10.11"
  }
 },
 "nbformat": 4,
 "nbformat_minor": 2
}
